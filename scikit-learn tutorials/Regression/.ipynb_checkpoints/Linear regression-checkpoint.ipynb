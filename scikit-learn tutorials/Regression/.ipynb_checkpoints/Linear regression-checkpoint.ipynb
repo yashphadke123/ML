{
 "cells": [
  {
   "cell_type": "code",
   "execution_count": 4,
   "id": "3993c42b",
   "metadata": {},
   "outputs": [],
   "source": [
    "from sklearn.preprocessing import StandardScaler\n",
    "from sklearn import linear_model\n",
    "from sklearn.metrics import accuracy_score\n",
    "from sklearn.model_selection import train_test_split\n",
    "import pandas as pd\n",
    "import numpy as np\n",
    "import matplotlib as plt\n",
    "import time"
   ]
  },
  {
   "cell_type": "markdown",
   "id": "c305f4f4",
   "metadata": {},
   "source": [
    "The data (X1, X2, X3, X4, X5, X6, X7) are for each city.\n",
    "\n",
    "- X1 = total overall reported crime rate per 1 million residents\n",
    "- X2 = reported violent crime rate per 100,000 residents\n",
    "- X3 = annual police funding in $/resident\n",
    "- X4 = % of people 25 years+ with 4 yrs. of high school\n",
    "- X5 = % of 16 to 19 year-olds not in highschool and not highschool graduates.\n",
    "- X6 = % of 18 to 24 year-olds in college\n",
    "- X7 = % of people 25 years+ with at least 4 years of college"
   ]
  },
  {
   "cell_type": "code",
   "execution_count": 5,
   "id": "50ef0352",
   "metadata": {},
   "outputs": [
    {
     "data": {
      "text/html": [
       "<div>\n",
       "<style scoped>\n",
       "    .dataframe tbody tr th:only-of-type {\n",
       "        vertical-align: middle;\n",
       "    }\n",
       "\n",
       "    .dataframe tbody tr th {\n",
       "        vertical-align: top;\n",
       "    }\n",
       "\n",
       "    .dataframe thead th {\n",
       "        text-align: right;\n",
       "    }\n",
       "</style>\n",
       "<table border=\"1\" class=\"dataframe\">\n",
       "  <thead>\n",
       "    <tr style=\"text-align: right;\">\n",
       "      <th></th>\n",
       "      <th>X1</th>\n",
       "      <th>X2</th>\n",
       "      <th>X3</th>\n",
       "      <th>X4</th>\n",
       "      <th>X5</th>\n",
       "      <th>X6</th>\n",
       "      <th>X7</th>\n",
       "    </tr>\n",
       "  </thead>\n",
       "  <tbody>\n",
       "    <tr>\n",
       "      <th>0</th>\n",
       "      <td>478</td>\n",
       "      <td>184</td>\n",
       "      <td>40</td>\n",
       "      <td>74</td>\n",
       "      <td>11</td>\n",
       "      <td>31</td>\n",
       "      <td>20</td>\n",
       "    </tr>\n",
       "    <tr>\n",
       "      <th>1</th>\n",
       "      <td>494</td>\n",
       "      <td>213</td>\n",
       "      <td>32</td>\n",
       "      <td>72</td>\n",
       "      <td>11</td>\n",
       "      <td>43</td>\n",
       "      <td>18</td>\n",
       "    </tr>\n",
       "    <tr>\n",
       "      <th>2</th>\n",
       "      <td>643</td>\n",
       "      <td>347</td>\n",
       "      <td>57</td>\n",
       "      <td>70</td>\n",
       "      <td>18</td>\n",
       "      <td>16</td>\n",
       "      <td>16</td>\n",
       "    </tr>\n",
       "    <tr>\n",
       "      <th>3</th>\n",
       "      <td>341</td>\n",
       "      <td>565</td>\n",
       "      <td>31</td>\n",
       "      <td>71</td>\n",
       "      <td>11</td>\n",
       "      <td>25</td>\n",
       "      <td>19</td>\n",
       "    </tr>\n",
       "    <tr>\n",
       "      <th>4</th>\n",
       "      <td>773</td>\n",
       "      <td>327</td>\n",
       "      <td>67</td>\n",
       "      <td>72</td>\n",
       "      <td>9</td>\n",
       "      <td>29</td>\n",
       "      <td>24</td>\n",
       "    </tr>\n",
       "  </tbody>\n",
       "</table>\n",
       "</div>"
      ],
      "text/plain": [
       "    X1   X2  X3  X4  X5  X6  X7\n",
       "0  478  184  40  74  11  31  20\n",
       "1  494  213  32  72  11  43  18\n",
       "2  643  347  57  70  18  16  16\n",
       "3  341  565  31  71  11  25  19\n",
       "4  773  327  67  72   9  29  24"
      ]
     },
     "execution_count": 5,
     "metadata": {},
     "output_type": "execute_result"
    }
   ],
   "source": [
    "df = pd.read_csv('C:/Users/Yash Phadke/OneDrive/Desktop/ML/scikit-learn tutorials/Regression/main.csv') \n",
    "df.head()"
   ]
  },
  {
   "cell_type": "code",
   "execution_count": 10,
   "id": "ec338541",
   "metadata": {},
   "outputs": [],
   "source": [
    "y = df.pop('X1')"
   ]
  },
  {
   "cell_type": "code",
   "execution_count": 15,
   "id": "ce447801",
   "metadata": {},
   "outputs": [
    {
     "data": {
      "text/html": [
       "<div>\n",
       "<style scoped>\n",
       "    .dataframe tbody tr th:only-of-type {\n",
       "        vertical-align: middle;\n",
       "    }\n",
       "\n",
       "    .dataframe tbody tr th {\n",
       "        vertical-align: top;\n",
       "    }\n",
       "\n",
       "    .dataframe thead th {\n",
       "        text-align: right;\n",
       "    }\n",
       "</style>\n",
       "<table border=\"1\" class=\"dataframe\">\n",
       "  <thead>\n",
       "    <tr style=\"text-align: right;\">\n",
       "      <th></th>\n",
       "      <th>X2</th>\n",
       "      <th>X3</th>\n",
       "      <th>X4</th>\n",
       "      <th>X5</th>\n",
       "      <th>X6</th>\n",
       "      <th>X7</th>\n",
       "    </tr>\n",
       "  </thead>\n",
       "  <tbody>\n",
       "    <tr>\n",
       "      <th>0</th>\n",
       "      <td>184</td>\n",
       "      <td>40</td>\n",
       "      <td>74</td>\n",
       "      <td>11</td>\n",
       "      <td>31</td>\n",
       "      <td>20</td>\n",
       "    </tr>\n",
       "    <tr>\n",
       "      <th>1</th>\n",
       "      <td>213</td>\n",
       "      <td>32</td>\n",
       "      <td>72</td>\n",
       "      <td>11</td>\n",
       "      <td>43</td>\n",
       "      <td>18</td>\n",
       "    </tr>\n",
       "    <tr>\n",
       "      <th>2</th>\n",
       "      <td>347</td>\n",
       "      <td>57</td>\n",
       "      <td>70</td>\n",
       "      <td>18</td>\n",
       "      <td>16</td>\n",
       "      <td>16</td>\n",
       "    </tr>\n",
       "    <tr>\n",
       "      <th>3</th>\n",
       "      <td>565</td>\n",
       "      <td>31</td>\n",
       "      <td>71</td>\n",
       "      <td>11</td>\n",
       "      <td>25</td>\n",
       "      <td>19</td>\n",
       "    </tr>\n",
       "    <tr>\n",
       "      <th>4</th>\n",
       "      <td>327</td>\n",
       "      <td>67</td>\n",
       "      <td>72</td>\n",
       "      <td>9</td>\n",
       "      <td>29</td>\n",
       "      <td>24</td>\n",
       "    </tr>\n",
       "  </tbody>\n",
       "</table>\n",
       "</div>"
      ],
      "text/plain": [
       "    X2  X3  X4  X5  X6  X7\n",
       "0  184  40  74  11  31  20\n",
       "1  213  32  72  11  43  18\n",
       "2  347  57  70  18  16  16\n",
       "3  565  31  71  11  25  19\n",
       "4  327  67  72   9  29  24"
      ]
     },
     "execution_count": 15,
     "metadata": {},
     "output_type": "execute_result"
    }
   ],
   "source": [
    "df.head()"
   ]
  },
  {
   "cell_type": "code",
   "execution_count": 16,
   "id": "bf15f3ba",
   "metadata": {},
   "outputs": [],
   "source": [
    "X_train,X_test,Y_train,Y_test = train_test_split(df,y,test_size =0.2)"
   ]
  },
  {
   "cell_type": "code",
   "execution_count": 45,
   "id": "b3cbddd0",
   "metadata": {},
   "outputs": [],
   "source": [
    "scale = StandardScaler()\n",
    "x_train = scale.fit_transform(X_train)\n",
    "Y_1 = np.reshape(Y_train.values,(-1,1))\n",
    "y_train = scale.fit_transform(Y_1)\n",
    "x_test = scale.fit_transform(X_test)\n",
    "Y_1 = np.reshape(Y_test.values,(-1,1))\n",
    "y_test = scale.fit_transform(Y_1)"
   ]
  },
  {
   "cell_type": "markdown",
   "id": "f2b227cf",
   "metadata": {},
   "source": [
    "Ridge is used for regularised models where as for normal regression we use Linear Regression"
   ]
  },
  {
   "cell_type": "code",
   "execution_count": 67,
   "id": "76a03e30",
   "metadata": {},
   "outputs": [
    {
     "name": "stdout",
     "output_type": "stream",
     "text": [
      "[[-0.24724286]\n",
      " [-0.90686467]\n",
      " [ 1.51021106]\n",
      " [-0.93915385]\n",
      " [-0.62318117]\n",
      " [ 2.25055582]\n",
      " [-0.33488492]\n",
      " [-0.51478178]\n",
      " [ 0.13100181]\n",
      " [-0.32565944]]\n",
      "[[-0.69331863]\n",
      " [-0.33683778]\n",
      " [-0.34746185]\n",
      " [-0.66135973]\n",
      " [-0.04889456]\n",
      " [ 2.57101356]\n",
      " [ 0.07867857]\n",
      " [-0.22995603]\n",
      " [-0.09364339]\n",
      " [-0.23822016]]\n"
     ]
    }
   ],
   "source": [
    "model = linear_model.LinearRegression()\n",
    "model.fit(x_train,y_train)\n",
    "model.coef_\n",
    "final = model.predict(x_test)\n",
    "print(y_test)\n",
    "print(final)"
   ]
  },
  {
   "cell_type": "code",
   "execution_count": 65,
   "id": "9754e68f",
   "metadata": {},
   "outputs": [
    {
     "name": "stdout",
     "output_type": "stream",
     "text": [
      "[[-0.24724286]\n",
      " [-0.90686467]\n",
      " [ 1.51021106]\n",
      " [-0.93915385]\n",
      " [-0.62318117]\n",
      " [ 2.25055582]\n",
      " [-0.33488492]\n",
      " [-0.51478178]\n",
      " [ 0.13100181]\n",
      " [-0.32565944]]\n",
      "[[-0.49610282]\n",
      " [-0.41443794]\n",
      " [-0.28872355]\n",
      " [-0.59194851]\n",
      " [-0.13931078]\n",
      " [ 2.49230946]\n",
      " [ 0.05033669]\n",
      " [-0.32075213]\n",
      " [-0.05873775]\n",
      " [-0.23263269]]\n"
     ]
    }
   ],
   "source": [
    "model = linear_model.Ridge()\n",
    "model.fit(x_train,y_train)\n",
    "model.coef_\n",
    "final = model.predict(x_test)\n",
    "print(y_test)\n",
    "print(final)"
   ]
  },
  {
   "cell_type": "code",
   "execution_count": null,
   "id": "09e4426a",
   "metadata": {},
   "outputs": [],
   "source": []
  }
 ],
 "metadata": {
  "kernelspec": {
   "display_name": "Python 3 (ipykernel)",
   "language": "python",
   "name": "python3"
  },
  "language_info": {
   "codemirror_mode": {
    "name": "ipython",
    "version": 3
   },
   "file_extension": ".py",
   "mimetype": "text/x-python",
   "name": "python",
   "nbconvert_exporter": "python",
   "pygments_lexer": "ipython3",
   "version": "3.9.13"
  }
 },
 "nbformat": 4,
 "nbformat_minor": 5
}
