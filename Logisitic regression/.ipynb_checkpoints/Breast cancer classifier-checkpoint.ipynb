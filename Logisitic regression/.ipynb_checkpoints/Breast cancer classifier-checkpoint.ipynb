{
 "cells": [
  {
   "cell_type": "code",
   "execution_count": 1,
   "id": "4fff2547",
   "metadata": {},
   "outputs": [],
   "source": [
    "%matplotlib inline\n",
    "import pandas as pd\n",
    "import numpy as np"
   ]
  },
  {
   "cell_type": "code",
   "execution_count": 2,
   "id": "85abcaa1",
   "metadata": {},
   "outputs": [
    {
     "data": {
      "text/html": [
       "<div>\n",
       "<style scoped>\n",
       "    .dataframe tbody tr th:only-of-type {\n",
       "        vertical-align: middle;\n",
       "    }\n",
       "\n",
       "    .dataframe tbody tr th {\n",
       "        vertical-align: top;\n",
       "    }\n",
       "\n",
       "    .dataframe thead th {\n",
       "        text-align: right;\n",
       "    }\n",
       "</style>\n",
       "<table border=\"1\" class=\"dataframe\">\n",
       "  <thead>\n",
       "    <tr style=\"text-align: right;\">\n",
       "      <th></th>\n",
       "      <th>Clump Thickness</th>\n",
       "      <th>Uniformity of Cell Size</th>\n",
       "      <th>Uniformity of Cell Shape</th>\n",
       "      <th>Marginal Adhesion</th>\n",
       "      <th>Single Epithelial Cell Size</th>\n",
       "      <th>Bare Nuclei</th>\n",
       "      <th>Bland Chromatin</th>\n",
       "      <th>Normal Nucleoli</th>\n",
       "      <th>Mitoses</th>\n",
       "    </tr>\n",
       "  </thead>\n",
       "  <tbody>\n",
       "    <tr>\n",
       "      <th>0</th>\n",
       "      <td>5</td>\n",
       "      <td>1</td>\n",
       "      <td>1</td>\n",
       "      <td>1</td>\n",
       "      <td>2</td>\n",
       "      <td>1</td>\n",
       "      <td>3</td>\n",
       "      <td>1</td>\n",
       "      <td>1</td>\n",
       "    </tr>\n",
       "    <tr>\n",
       "      <th>1</th>\n",
       "      <td>5</td>\n",
       "      <td>4</td>\n",
       "      <td>4</td>\n",
       "      <td>5</td>\n",
       "      <td>7</td>\n",
       "      <td>10</td>\n",
       "      <td>3</td>\n",
       "      <td>2</td>\n",
       "      <td>1</td>\n",
       "    </tr>\n",
       "    <tr>\n",
       "      <th>2</th>\n",
       "      <td>3</td>\n",
       "      <td>1</td>\n",
       "      <td>1</td>\n",
       "      <td>1</td>\n",
       "      <td>2</td>\n",
       "      <td>2</td>\n",
       "      <td>3</td>\n",
       "      <td>1</td>\n",
       "      <td>1</td>\n",
       "    </tr>\n",
       "    <tr>\n",
       "      <th>3</th>\n",
       "      <td>6</td>\n",
       "      <td>8</td>\n",
       "      <td>8</td>\n",
       "      <td>1</td>\n",
       "      <td>3</td>\n",
       "      <td>4</td>\n",
       "      <td>3</td>\n",
       "      <td>7</td>\n",
       "      <td>1</td>\n",
       "    </tr>\n",
       "    <tr>\n",
       "      <th>4</th>\n",
       "      <td>4</td>\n",
       "      <td>1</td>\n",
       "      <td>1</td>\n",
       "      <td>3</td>\n",
       "      <td>2</td>\n",
       "      <td>1</td>\n",
       "      <td>3</td>\n",
       "      <td>1</td>\n",
       "      <td>1</td>\n",
       "    </tr>\n",
       "  </tbody>\n",
       "</table>\n",
       "</div>"
      ],
      "text/plain": [
       "   Clump Thickness  Uniformity of Cell Size  Uniformity of Cell Shape  \\\n",
       "0                5                        1                         1   \n",
       "1                5                        4                         4   \n",
       "2                3                        1                         1   \n",
       "3                6                        8                         8   \n",
       "4                4                        1                         1   \n",
       "\n",
       "   Marginal Adhesion  Single Epithelial Cell Size  Bare Nuclei  \\\n",
       "0                  1                            2            1   \n",
       "1                  5                            7           10   \n",
       "2                  1                            2            2   \n",
       "3                  1                            3            4   \n",
       "4                  3                            2            1   \n",
       "\n",
       "   Bland Chromatin  Normal Nucleoli  Mitoses  \n",
       "0                3                1        1  \n",
       "1                3                2        1  \n",
       "2                3                1        1  \n",
       "3                3                7        1  \n",
       "4                3                1        1  "
      ]
     },
     "execution_count": 2,
     "metadata": {},
     "output_type": "execute_result"
    }
   ],
   "source": [
    "df = pd.read_csv('C:/Users/Yash Phadke/OneDrive/Desktop/ML/Logisitic regression/breast_cancer.csv')\n",
    "test = df.pop('Class')\n",
    "train = df.to_numpy()\n",
    "df.head()"
   ]
  },
  {
   "cell_type": "code",
   "execution_count": 3,
   "id": "2585b3bf",
   "metadata": {},
   "outputs": [
    {
     "data": {
      "text/plain": [
       "0    2\n",
       "1    2\n",
       "2    2\n",
       "3    2\n",
       "4    2\n",
       "Name: Class, dtype: int64"
      ]
     },
     "execution_count": 3,
     "metadata": {},
     "output_type": "execute_result"
    }
   ],
   "source": [
    "test.head()"
   ]
  },
  {
   "cell_type": "code",
   "execution_count": 4,
   "id": "d5bf3c77",
   "metadata": {},
   "outputs": [
    {
     "data": {
      "text/plain": [
       "array([2, 4], dtype=int64)"
      ]
     },
     "execution_count": 4,
     "metadata": {},
     "output_type": "execute_result"
    }
   ],
   "source": [
    "test.unique()"
   ]
  },
  {
   "cell_type": "code",
   "execution_count": 5,
   "id": "e7b2e59c",
   "metadata": {},
   "outputs": [
    {
     "data": {
      "text/plain": [
       "(683, 9)"
      ]
     },
     "execution_count": 5,
     "metadata": {},
     "output_type": "execute_result"
    }
   ],
   "source": [
    "df.shape"
   ]
  },
  {
   "cell_type": "markdown",
   "id": "1f23889d",
   "metadata": {},
   "source": [
    "Here we define the loss function for this logistic regression . It's name is BinaryCrossEntropy and it's found by\n",
    "$$\n",
    "\\ J = [(1-y)log(1-f(z)) + ylog(f(z))]\n",
    "$$\n",
    "\n",
    "However here z is also a function of the dot product of weights and input added to the biases\n",
    "$$\n",
    "\\ z = \\frac{1}{(1 + e^{-(\\overrightarrow{W}.\\overrightarrow{X}+\\overrightarrow{B})})}\n",
    "$$"
   ]
  },
  {
   "cell_type": "code",
   "execution_count": 6,
   "id": "59ded0b2",
   "metadata": {},
   "outputs": [],
   "source": [
    "def Sig(z):\n",
    "    return 1/(1 + np.exp(-z))"
   ]
  },
  {
   "cell_type": "code",
   "execution_count": 7,
   "id": "96628047",
   "metadata": {},
   "outputs": [],
   "source": [
    "def Predict(x,w,b):\n",
    "    y_hat = np.dot(w,x) + b \n",
    "    y_hat = Sig(y_hat)\n",
    "    if y_hat > 0.5:\n",
    "        out = 4\n",
    "    if y_hat < 0.5:\n",
    "        out = 2\n",
    "    return out"
   ]
  },
  {
   "cell_type": "code",
   "execution_count": 8,
   "id": "455d46d1",
   "metadata": {},
   "outputs": [],
   "source": [
    "def Loss(x,y):\n",
    "    if(y == 2):\n",
    "        c = 0\n",
    "    else:\n",
    "        c = 1\n",
    "    l = (c)*np.log(x) + (1-c)*np.log(1-x)\n",
    "    return l"
   ]
  },
  {
   "cell_type": "code",
   "execution_count": 9,
   "id": "ccbcd39c",
   "metadata": {},
   "outputs": [],
   "source": [
    "def Cost(x,y,w,b):\n",
    "    m,n = x.shape\n",
    "    loss = 0\n",
    "    for i in range (m):\n",
    "        temp = np.dot(w,x[i]) + b\n",
    "        t = Sig(temp)\n",
    "        loss += Loss(t,y[i])\n",
    "    return loss/(2*m)"
   ]
  },
  {
   "cell_type": "markdown",
   "id": "801fb237",
   "metadata": {
    "scrolled": true
   },
   "source": [
    "first we will do a simple foward prop "
   ]
  },
  {
   "cell_type": "code",
   "execution_count": 13,
   "id": "69dbc6ed",
   "metadata": {},
   "outputs": [
    {
     "name": "stdout",
     "output_type": "stream",
     "text": [
      "[0.07770331]\n",
      "[-0.03843164  0.00565274 -0.07999815  0.06256942  0.03807318  0.09591352\n",
      " -0.05291573  0.0639489   0.0175185 ]\n"
     ]
    }
   ],
   "source": [
    "weights = np.random.uniform(-0.1,0.1,(9,))\n",
    "bias = np.random.uniform(-0.1,0.1,(1,))\n",
    "print(bias)\n",
    "print(weights)"
   ]
  },
  {
   "cell_type": "code",
   "execution_count": 14,
   "id": "ac883f19",
   "metadata": {},
   "outputs": [
    {
     "data": {
      "text/plain": [
       "2"
      ]
     },
     "execution_count": 14,
     "metadata": {},
     "output_type": "execute_result"
    }
   ],
   "source": [
    "Predict(train[0],weights,bias)"
   ]
  },
  {
   "cell_type": "code",
   "execution_count": 15,
   "id": "2c10e4b8",
   "metadata": {},
   "outputs": [
    {
     "data": {
      "text/plain": [
       "array([-0.32470361])"
      ]
     },
     "execution_count": 15,
     "metadata": {},
     "output_type": "execute_result"
    }
   ],
   "source": [
    "Cost(train,test,weights,bias)"
   ]
  },
  {
   "cell_type": "code",
   "execution_count": 16,
   "id": "30116b9c",
   "metadata": {},
   "outputs": [],
   "source": [
    "def Gradient(x,y,w,b):\n",
    "    m,n = x.shape\n",
    "    bias = 0\n",
    "    gradient = np.zeros(9,)\n",
    "    for i in range(500):\n",
    "        if(y[i] == 2):\n",
    "            y[i] = 0\n",
    "        else:\n",
    "            y[i] == 1\n",
    "        for j in range(n):\n",
    "            gradient[j] += (Sig(np.dot(w,x[i])+b) - y[i])*x[i,j]\n",
    "            bias +=  (Sig(np.dot(w,x[i])+b) - y[i])\n",
    "    final_gradient = gradient/500 \n",
    "    final_bias = bias/500\n",
    "    return final_gradient, final_bias"
   ]
  },
  {
   "cell_type": "code",
   "execution_count": 17,
   "id": "9efbd5b9",
   "metadata": {},
   "outputs": [
    {
     "data": {
      "text/plain": [
       "(array([-8.77406652, -7.86589036, -7.98623771, -6.54007294, -6.37520623,\n",
       "        -9.61784872, -6.68824009, -7.14295116, -3.21890139]),\n",
       " array([-8.88935543]))"
      ]
     },
     "execution_count": 17,
     "metadata": {},
     "output_type": "execute_result"
    }
   ],
   "source": [
    "Gradient(train,test,weights,bias)"
   ]
  },
  {
   "cell_type": "code",
   "execution_count": 22,
   "id": "3528b6c0",
   "metadata": {},
   "outputs": [],
   "source": [
    "def Grad_desc(x,y,w,b):\n",
    "    temp_w = np.zeros(9,)\n",
    "    m,n = x.shape\n",
    "    alpha = 0.000005\n",
    "    for i in range(1000):  #epochs \n",
    "        for j in range(n):\n",
    "            temp_w[j] = w[j] - alpha*Gradient(x,y,w,b)[0][j]\n",
    "            temp_b = b - alpha*Gradient(x,y,w,b)[1]\n",
    "        w = temp_w\n",
    "        b = temp_b\n",
    "        if i%20 ==0:\n",
    "            z = Cost(x,y,w,b)\n",
    "            print(\"no of epochs:\",i,\" cost :\",z)\n",
    "    return w,b\n",
    "    "
   ]
  },
  {
   "cell_type": "code",
   "execution_count": 20,
   "id": "8d665a05",
   "metadata": {},
   "outputs": [
    {
     "data": {
      "text/plain": [
       "-8.774066520646457"
      ]
     },
     "execution_count": 20,
     "metadata": {},
     "output_type": "execute_result"
    }
   ],
   "source": [
    "Gradient(train,test,weights,bias)[0][0]"
   ]
  },
  {
   "cell_type": "code",
   "execution_count": 23,
   "id": "f42feaa0",
   "metadata": {},
   "outputs": [
    {
     "name": "stdout",
     "output_type": "stream",
     "text": [
      "no of epochs: 0  cost : [-0.29060492]\n",
      "no of epochs: 20  cost : [-0.2876732]\n",
      "no of epochs: 40  cost : [-0.28482658]\n",
      "no of epochs: 60  cost : [-0.28206311]\n",
      "no of epochs: 80  cost : [-0.27938085]\n",
      "no of epochs: 100  cost : [-0.27677788]\n",
      "no of epochs: 120  cost : [-0.27425228]\n",
      "no of epochs: 140  cost : [-0.27180218]\n",
      "no of epochs: 160  cost : [-0.26942569]\n",
      "no of epochs: 180  cost : [-0.26712098]\n",
      "no of epochs: 200  cost : [-0.26488624]\n",
      "no of epochs: 220  cost : [-0.26271966]\n",
      "no of epochs: 240  cost : [-0.26061949]\n",
      "no of epochs: 260  cost : [-0.25858401]\n",
      "no of epochs: 280  cost : [-0.25661152]\n",
      "no of epochs: 300  cost : [-0.25470035]\n",
      "no of epochs: 320  cost : [-0.25284888]\n",
      "no of epochs: 340  cost : [-0.25105552]\n",
      "no of epochs: 360  cost : [-0.2493187]\n",
      "no of epochs: 380  cost : [-0.2476369]\n",
      "no of epochs: 400  cost : [-0.24600865]\n",
      "no of epochs: 420  cost : [-0.24443248]\n",
      "no of epochs: 440  cost : [-0.24290698]\n",
      "no of epochs: 460  cost : [-0.24143078]\n",
      "no of epochs: 480  cost : [-0.24000252]\n",
      "no of epochs: 500  cost : [-0.23862091]\n",
      "no of epochs: 520  cost : [-0.23728468]\n",
      "no of epochs: 540  cost : [-0.23599257]\n",
      "no of epochs: 560  cost : [-0.2347434]\n",
      "no of epochs: 580  cost : [-0.23353598]\n",
      "no of epochs: 600  cost : [-0.23236919]\n",
      "no of epochs: 620  cost : [-0.23124191]\n",
      "no of epochs: 640  cost : [-0.23015308]\n",
      "no of epochs: 660  cost : [-0.22910165]\n",
      "no of epochs: 680  cost : [-0.22808662]\n",
      "no of epochs: 700  cost : [-0.227107]\n",
      "no of epochs: 720  cost : [-0.22616185]\n",
      "no of epochs: 740  cost : [-0.22525023]\n",
      "no of epochs: 760  cost : [-0.22437126]\n",
      "no of epochs: 780  cost : [-0.22352407]\n",
      "no of epochs: 800  cost : [-0.22270781]\n",
      "no of epochs: 820  cost : [-0.22192168]\n",
      "no of epochs: 840  cost : [-0.22116487]\n",
      "no of epochs: 860  cost : [-0.22043663]\n",
      "no of epochs: 880  cost : [-0.21973622]\n",
      "no of epochs: 900  cost : [-0.21906291]\n",
      "no of epochs: 920  cost : [-0.218416]\n",
      "no of epochs: 940  cost : [-0.21779483]\n",
      "no of epochs: 960  cost : [-0.21719874]\n",
      "no of epochs: 980  cost : [-0.21662709]\n"
     ]
    }
   ],
   "source": [
    "model_weights, model_bias = Grad_desc(train,test,weights,bias)"
   ]
  },
  {
   "cell_type": "code",
   "execution_count": 29,
   "id": "727363d5",
   "metadata": {},
   "outputs": [
    {
     "name": "stdout",
     "output_type": "stream",
     "text": [
      "no of epochs: 30  cost : 90\n"
     ]
    }
   ],
   "source": [
    "i = 30\n",
    "z= 90\n",
    "print(\"no of epochs:\",i,\" cost :\",z)"
   ]
  },
  {
   "cell_type": "code",
   "execution_count": 18,
   "id": "c6f127a1",
   "metadata": {},
   "outputs": [],
   "source": [
    "def Accuracy(w,b):\n",
    "    i = 500\n",
    "    correct = 0\n",
    "    wrong = 0\n",
    "    while i < 683:\n",
    "        y_pred = Predict(train[i],w,b)\n",
    "        if(y_pred == test[i]):\n",
    "            correct+=1\n",
    "        else:\n",
    "            wrong +=1\n",
    "        i += 1\n",
    "    ratio = correct /(correct + wrong)\n",
    "    return ratio*100"
   ]
  },
  {
   "cell_type": "code",
   "execution_count": 19,
   "id": "d5a614ce",
   "metadata": {},
   "outputs": [
    {
     "data": {
      "text/plain": [
       "32.78688524590164"
      ]
     },
     "execution_count": 19,
     "metadata": {},
     "output_type": "execute_result"
    }
   ],
   "source": [
    "before_training = Accuracy(weights,bias)"
   ]
  },
  {
   "cell_type": "code",
   "execution_count": null,
   "id": "e38081ef",
   "metadata": {},
   "outputs": [],
   "source": [
    "after training = Accuracy(model_weights,model_bias)"
   ]
  }
 ],
 "metadata": {
  "kernelspec": {
   "display_name": "Python 3 (ipykernel)",
   "language": "python",
   "name": "python3"
  },
  "language_info": {
   "codemirror_mode": {
    "name": "ipython",
    "version": 3
   },
   "file_extension": ".py",
   "mimetype": "text/x-python",
   "name": "python",
   "nbconvert_exporter": "python",
   "pygments_lexer": "ipython3",
   "version": "3.9.13"
  }
 },
 "nbformat": 4,
 "nbformat_minor": 5
}
