{
 "cells": [
  {
   "cell_type": "code",
   "execution_count": 1,
   "id": "a08f4818",
   "metadata": {},
   "outputs": [],
   "source": [
    "import numpy as np\n",
    "import matplotlib.pyplot as plt\n",
    "import pandas as pd\n",
    "import time "
   ]
  },
  {
   "cell_type": "code",
   "execution_count": 2,
   "id": "8e3b0601",
   "metadata": {},
   "outputs": [
    {
     "name": "stdout",
     "output_type": "stream",
     "text": [
      "(20640, 10)\n"
     ]
    },
    {
     "data": {
      "text/html": [
       "<div>\n",
       "<style scoped>\n",
       "    .dataframe tbody tr th:only-of-type {\n",
       "        vertical-align: middle;\n",
       "    }\n",
       "\n",
       "    .dataframe tbody tr th {\n",
       "        vertical-align: top;\n",
       "    }\n",
       "\n",
       "    .dataframe thead th {\n",
       "        text-align: right;\n",
       "    }\n",
       "</style>\n",
       "<table border=\"1\" class=\"dataframe\">\n",
       "  <thead>\n",
       "    <tr style=\"text-align: right;\">\n",
       "      <th></th>\n",
       "      <th>longitude</th>\n",
       "      <th>latitude</th>\n",
       "      <th>housing_median_age</th>\n",
       "      <th>total_rooms</th>\n",
       "      <th>total_bedrooms</th>\n",
       "      <th>population</th>\n",
       "      <th>households</th>\n",
       "      <th>median_income</th>\n",
       "      <th>median_house_value</th>\n",
       "      <th>ocean_proximity</th>\n",
       "    </tr>\n",
       "  </thead>\n",
       "  <tbody>\n",
       "    <tr>\n",
       "      <th>0</th>\n",
       "      <td>-122.23</td>\n",
       "      <td>37.88</td>\n",
       "      <td>41.0</td>\n",
       "      <td>880.0</td>\n",
       "      <td>129.0</td>\n",
       "      <td>322.0</td>\n",
       "      <td>126.0</td>\n",
       "      <td>8.3252</td>\n",
       "      <td>452600.0</td>\n",
       "      <td>NEAR BAY</td>\n",
       "    </tr>\n",
       "    <tr>\n",
       "      <th>1</th>\n",
       "      <td>-122.22</td>\n",
       "      <td>37.86</td>\n",
       "      <td>21.0</td>\n",
       "      <td>7099.0</td>\n",
       "      <td>1106.0</td>\n",
       "      <td>2401.0</td>\n",
       "      <td>1138.0</td>\n",
       "      <td>8.3014</td>\n",
       "      <td>358500.0</td>\n",
       "      <td>NEAR BAY</td>\n",
       "    </tr>\n",
       "    <tr>\n",
       "      <th>2</th>\n",
       "      <td>-122.24</td>\n",
       "      <td>37.85</td>\n",
       "      <td>52.0</td>\n",
       "      <td>1467.0</td>\n",
       "      <td>190.0</td>\n",
       "      <td>496.0</td>\n",
       "      <td>177.0</td>\n",
       "      <td>7.2574</td>\n",
       "      <td>352100.0</td>\n",
       "      <td>NEAR BAY</td>\n",
       "    </tr>\n",
       "    <tr>\n",
       "      <th>3</th>\n",
       "      <td>-122.25</td>\n",
       "      <td>37.85</td>\n",
       "      <td>52.0</td>\n",
       "      <td>1274.0</td>\n",
       "      <td>235.0</td>\n",
       "      <td>558.0</td>\n",
       "      <td>219.0</td>\n",
       "      <td>5.6431</td>\n",
       "      <td>341300.0</td>\n",
       "      <td>NEAR BAY</td>\n",
       "    </tr>\n",
       "    <tr>\n",
       "      <th>4</th>\n",
       "      <td>-122.25</td>\n",
       "      <td>37.85</td>\n",
       "      <td>52.0</td>\n",
       "      <td>1627.0</td>\n",
       "      <td>280.0</td>\n",
       "      <td>565.0</td>\n",
       "      <td>259.0</td>\n",
       "      <td>3.8462</td>\n",
       "      <td>342200.0</td>\n",
       "      <td>NEAR BAY</td>\n",
       "    </tr>\n",
       "  </tbody>\n",
       "</table>\n",
       "</div>"
      ],
      "text/plain": [
       "   longitude  latitude  housing_median_age  total_rooms  total_bedrooms  \\\n",
       "0    -122.23     37.88                41.0        880.0           129.0   \n",
       "1    -122.22     37.86                21.0       7099.0          1106.0   \n",
       "2    -122.24     37.85                52.0       1467.0           190.0   \n",
       "3    -122.25     37.85                52.0       1274.0           235.0   \n",
       "4    -122.25     37.85                52.0       1627.0           280.0   \n",
       "\n",
       "   population  households  median_income  median_house_value ocean_proximity  \n",
       "0       322.0       126.0         8.3252            452600.0        NEAR BAY  \n",
       "1      2401.0      1138.0         8.3014            358500.0        NEAR BAY  \n",
       "2       496.0       177.0         7.2574            352100.0        NEAR BAY  \n",
       "3       558.0       219.0         5.6431            341300.0        NEAR BAY  \n",
       "4       565.0       259.0         3.8462            342200.0        NEAR BAY  "
      ]
     },
     "execution_count": 2,
     "metadata": {},
     "output_type": "execute_result"
    }
   ],
   "source": [
    "df = pd.read_csv(\"C:/Users/Yash Phadke/OneDrive/Desktop/ML/Linear Regression/housing.csv\")\n",
    "array = df.to_numpy()\n",
    "a = np.shape(array)\n",
    "print(a)\n",
    "df.head()"
   ]
  },
  {
   "cell_type": "markdown",
   "id": "530a323a",
   "metadata": {},
   "source": [
    "Normalising the data for all the features "
   ]
  },
  {
   "cell_type": "code",
   "execution_count": 3,
   "id": "eff9a16a",
   "metadata": {},
   "outputs": [],
   "source": [
    "longitude = array.T[0]\n",
    "final_long = []\n",
    "min_longitude = min(longitude)\n",
    "a = np.shape(array)\n",
    "x = 0\n",
    "while x < 20640:\n",
    "    temp_long = (longitude[x])/(min_longitude) \n",
    "    final_long.append(temp_long)\n",
    "    x = x+1"
   ]
  },
  {
   "cell_type": "code",
   "execution_count": 4,
   "id": "fe28a6aa",
   "metadata": {},
   "outputs": [],
   "source": [
    "latitude = array.T[1]\n",
    "final_latitude = []\n",
    "max_latitude = max(latitude)\n",
    "x = 0\n",
    "while x < 20640:\n",
    "    temp_latitude = (latitude[x])/(max_latitude) \n",
    "    final_latitude.append(temp_latitude)\n",
    "    x = x+1"
   ]
  },
  {
   "cell_type": "code",
   "execution_count": 5,
   "id": "d1dfb0d1",
   "metadata": {},
   "outputs": [],
   "source": [
    "House_median_age = array.T[2]\n",
    "final_House_median_age = []\n",
    "max_House_median_age = max(House_median_age)\n",
    "x = 0\n",
    "while x < 20640:\n",
    "    temp_House_median_age = (House_median_age[x])/(max_House_median_age) \n",
    "    final_House_median_age.append(temp_House_median_age)\n",
    "    x = x+1\n"
   ]
  },
  {
   "cell_type": "code",
   "execution_count": 6,
   "id": "7e93834c",
   "metadata": {},
   "outputs": [],
   "source": [
    "total_rooms = array.T[3]\n",
    "final_total_rooms  = []\n",
    "max_total_rooms  = max(total_rooms)\n",
    "x = 0\n",
    "while x < 20640:\n",
    "    temp_total_rooms = (total_rooms[x])/(max_total_rooms) \n",
    "    final_total_rooms.append(temp_total_rooms)\n",
    "    x = x+1"
   ]
  },
  {
   "cell_type": "code",
   "execution_count": 7,
   "id": "45918565",
   "metadata": {},
   "outputs": [],
   "source": [
    "total_population = array.T[5]\n",
    "final_population = []\n",
    "max_population = max(total_population)\n",
    "x = 0\n",
    "while x < 20640:\n",
    "    temp_population = (total_population[x])/(max_population) \n",
    "    final_population.append(temp_population)\n",
    "    x = x+1"
   ]
  },
  {
   "cell_type": "code",
   "execution_count": 8,
   "id": "1b3f4809",
   "metadata": {},
   "outputs": [],
   "source": [
    "total_median_income= array.T[7]\n",
    "final_median_income = []\n",
    "max_median_income = max(total_median_income)\n",
    "x = 0\n",
    "while x < 20640:\n",
    "    temp_median_income = (total_median_income[x])/(max_median_income) \n",
    "    final_median_income.append(temp_median_income)\n",
    "    x = x+1"
   ]
  },
  {
   "cell_type": "code",
   "execution_count": 9,
   "id": "0e2010ba",
   "metadata": {},
   "outputs": [],
   "source": [
    "total_house_price= array.T[8]\n",
    "final_house_price = []\n",
    "max_house_price = max(total_house_price)\n",
    "x = 0\n",
    "while x < 20640:\n",
    "    temp_house_price = (total_house_price[x])/(max_house_price) \n",
    "    final_house_price.append(temp_house_price)\n",
    "    x = x+1"
   ]
  },
  {
   "cell_type": "markdown",
   "id": "b09bcba0",
   "metadata": {},
   "source": [
    "Making the final array"
   ]
  },
  {
   "cell_type": "code",
   "execution_count": 10,
   "id": "81c4b436",
   "metadata": {},
   "outputs": [
    {
     "name": "stdout",
     "output_type": "stream",
     "text": [
      "[[0.98295135 0.90297974 0.78846154 0.02238047 0.00902416 0.55500963]\n",
      " [0.98287093 0.90250298 0.40384615 0.18054425 0.06728883 0.55342298]\n",
      " [0.98303177 0.9022646  1.         0.03730926 0.01390057 0.48382344]\n",
      " ...\n",
      " [0.97482911 0.93992849 0.32692308 0.05732452 0.02822151 0.11333258]\n",
      " [0.97563329 0.93992849 0.34615385 0.04730417 0.02076677 0.12447917]\n",
      " [0.97498995 0.93849821 0.30769231 0.07082909 0.03887114 0.15923894]]\n"
     ]
    }
   ],
   "source": [
    "final = np.stack((final_long,final_latitude,final_House_median_age,final_total_rooms,final_population,final_median_income),axis=1)\n",
    "print(final)"
   ]
  },
  {
   "cell_type": "markdown",
   "id": "6394829c",
   "metadata": {},
   "source": [
    "Making the cost function "
   ]
  },
  {
   "cell_type": "code",
   "execution_count": 11,
   "id": "eee3c6bb",
   "metadata": {},
   "outputs": [],
   "source": [
    "weights =np.array([0,0,0,0,0,0])\n",
    "def Diff_cost_wrt_w1(w,b):\n",
    "        t = 0\n",
    "        temp_weights:float64 = 0\n",
    "        while t<20640:\n",
    "            diff = ((np.dot(w,final[t])+b) -final_house_price[t])*final[t,0]\n",
    "            temp_weights = temp_weights + diff\n",
    "            t = t + 1\n",
    "        diff_cost_wrt_w1 = temp_weights/20640\n",
    "        return diff_cost_wrt_w1\n"
   ]
  },
  {
   "cell_type": "code",
   "execution_count": 12,
   "id": "9fa3516e",
   "metadata": {},
   "outputs": [],
   "source": [
    "def Diff_cost_wrt_w2(w,b):\n",
    "        t = 0\n",
    "        temp_weights:float64 = 0\n",
    "        while t<20640:\n",
    "            diff = ((np.dot(w,final[t]))+b -final_house_price[t])*final[t,1]\n",
    "            temp_weights = temp_weights + diff\n",
    "            t = t + 1\n",
    "        diff_cost_wrt_w2 = temp_weights/20640\n",
    "        return diff_cost_wrt_w2\n"
   ]
  },
  {
   "cell_type": "code",
   "execution_count": 13,
   "id": "d57aa80e",
   "metadata": {},
   "outputs": [],
   "source": [
    "def Diff_cost_wrt_w3(w,b):\n",
    "        t = 0\n",
    "        temp_weights:float64 = 0\n",
    "        while t<20640:\n",
    "            diff = ((np.dot(w,final[t]))+b -final_house_price[t])*final[t,2]\n",
    "            temp_weights = temp_weights + diff\n",
    "            t = t + 1\n",
    "        diff_cost_wrt_w3 = temp_weights/20640\n",
    "        return diff_cost_wrt_w3"
   ]
  },
  {
   "cell_type": "code",
   "execution_count": 14,
   "id": "68598e8a",
   "metadata": {},
   "outputs": [],
   "source": [
    "def Diff_cost_wrt_w4(w,b):\n",
    "        t = 0\n",
    "        temp_weights:float64 = 0\n",
    "        while t<20640:\n",
    "            diff = ((np.dot(w,final[t]))+b -final_house_price[t])*final[t,3]\n",
    "            temp_weights = temp_weights + diff\n",
    "            t = t + 1\n",
    "        diff_cost_wrt_w4 = temp_weights/20640\n",
    "        return diff_cost_wrt_w4"
   ]
  },
  {
   "cell_type": "code",
   "execution_count": 15,
   "id": "f708b2dd",
   "metadata": {},
   "outputs": [],
   "source": [
    "def Diff_cost_wrt_w5(w,b):\n",
    "        t = 0\n",
    "        temp_weights:float64 = 0\n",
    "        while t<20640:\n",
    "            diff = ((np.dot(w,final[t]))+b -final_house_price[t])*final[t,4]\n",
    "            temp_weights = temp_weights + diff\n",
    "            t = t + 1\n",
    "        diff_cost_wrt_w5 = temp_weights/20640\n",
    "        return diff_cost_wrt_w5"
   ]
  },
  {
   "cell_type": "code",
   "execution_count": 16,
   "id": "07ecd017",
   "metadata": {},
   "outputs": [],
   "source": [
    "def Diff_cost_wrt_w6(w,b):\n",
    "        t = 0\n",
    "        temp_weights:float64 = 0\n",
    "        while t<20640:\n",
    "            diff = ((np.dot(w,final[t]))+b -final_house_price[t])*final[t,5]\n",
    "            temp_weights = temp_weights + diff\n",
    "            t = t + 1\n",
    "        diff_cost_wrt_w6 = temp_weights/20640\n",
    "        return diff_cost_wrt_w6"
   ]
  },
  {
   "cell_type": "code",
   "execution_count": 17,
   "id": "4646bb9a",
   "metadata": {},
   "outputs": [],
   "source": [
    "def Diff_cost_wrt_b(w,b):\n",
    "        t = 0\n",
    "        temp_weights:float64 = 0\n",
    "        while t<20640:\n",
    "            diff = ((np.dot(w,final[t]))+b -final_house_price[t])\n",
    "            temp_weights = temp_weights + diff\n",
    "            t = t + 1\n",
    "        diff_cost_wrt_b = temp_weights/20640\n",
    "        return diff_cost_wrt_b"
   ]
  },
  {
   "cell_type": "code",
   "execution_count": 19,
   "id": "446d3307",
   "metadata": {},
   "outputs": [],
   "source": [
    "def Grad_desc(w,b):\n",
    "    n = 0\n",
    "    w1 = weights[0]\n",
    "    w2 = weights[1]\n",
    "    w3 = weights[2]\n",
    "    w4 = weights[3]\n",
    "    w5 = weights[4]\n",
    "    w6 = weights[5]\n",
    "    while n < 20000:\n",
    "        temp_w1 = w1 - 0.001*Diff_cost_wrt_w1(w,b)\n",
    "        temp_w2 = w2 - 0.001*Diff_cost_wrt_w2(w,b)\n",
    "        temp_w3 = w3 - 0.001*Diff_cost_wrt_w3(w,b)\n",
    "        temp_w4 = w4 - 0.001*Diff_cost_wrt_w4(w,b)\n",
    "        temp_w5 = w5 - 0.001*Diff_cost_wrt_w5(w,b)\n",
    "        temp_w6 = w6 - 0.001*Diff_cost_wrt_w6(w,b)\n",
    "        temp_b = b - 0.001*Diff_cost_wrt_b(w,b)\n",
    "        w1 = temp_w1\n",
    "        w2 = temp_w2\n",
    "        w3 = temp_w3\n",
    "        w4 = temp_w4\n",
    "        w5 = temp_w5\n",
    "        w6 = temp_w6\n",
    "        b = temp_b\n",
    "        w = [w1,w2,w3,w4,w5,w6]\n",
    "        n = n + 1\n",
    "    return w1,w2,w3,w4,w5,w6,b"
   ]
  },
  {
   "cell_type": "code",
   "execution_count": 20,
   "id": "c0d2adb3",
   "metadata": {},
   "outputs": [
    {
     "name": "stdout",
     "output_type": "stream",
     "text": [
      "8211.045300722122\n"
     ]
    }
   ],
   "source": [
    "start = time.time()\n",
    "w = Grad_desc(weights,0)\n",
    "end = time.time()\n",
    "print(end - start)"
   ]
  },
  {
   "cell_type": "code",
   "execution_count": 31,
   "id": "46daecbd",
   "metadata": {},
   "outputs": [],
   "source": [
    "def Predict(cin):\n",
    "    prediction_price = w[0]*(cin[0]/min(longitude)) + w[1]*(cin[1]/max(latitude)) + w[2]*(cin[2]/max(House_median_age)) \n",
    "    + w[3]*(cin[3]/max(total_rooms)) + w[4]*(cin[5]/max(total_population)) + w[5]*(cin[6]/max(total_median_income)) + w[6]\n",
    "    final_price = max(total_house_price)*prediction_price\n",
    "    return final_price"
   ]
  },
  {
   "cell_type": "code",
   "execution_count": 37,
   "id": "bf771d60",
   "metadata": {},
   "outputs": [
    {
     "data": {
      "text/plain": [
       "126924.91199569323"
      ]
     },
     "execution_count": 37,
     "metadata": {},
     "output_type": "execute_result"
    }
   ],
   "source": [
    "Predict(array[3])"
   ]
  },
  {
   "cell_type": "code",
   "execution_count": 33,
   "id": "a14a434c",
   "metadata": {},
   "outputs": [
    {
     "name": "stdout",
     "output_type": "stream",
     "text": [
      "[-122.23 37.88 41.0 880.0 129.0 322.0 126.0 8.3252 452600.0 'NEAR BAY']\n"
     ]
    }
   ],
   "source": [
    "print(array[0])"
   ]
  },
  {
   "cell_type": "code",
   "execution_count": null,
   "id": "7ca283b9",
   "metadata": {},
   "outputs": [],
   "source": []
  },
  {
   "cell_type": "code",
   "execution_count": null,
   "id": "fcc901dc",
   "metadata": {},
   "outputs": [],
   "source": []
  },
  {
   "cell_type": "code",
   "execution_count": null,
   "id": "5ac29fd6",
   "metadata": {},
   "outputs": [],
   "source": []
  },
  {
   "cell_type": "code",
   "execution_count": null,
   "id": "30e82d84",
   "metadata": {},
   "outputs": [],
   "source": []
  }
 ],
 "metadata": {
  "kernelspec": {
   "display_name": "Python 3 (ipykernel)",
   "language": "python",
   "name": "python3"
  },
  "language_info": {
   "codemirror_mode": {
    "name": "ipython",
    "version": 3
   },
   "file_extension": ".py",
   "mimetype": "text/x-python",
   "name": "python",
   "nbconvert_exporter": "python",
   "pygments_lexer": "ipython3",
   "version": "3.9.13"
  }
 },
 "nbformat": 4,
 "nbformat_minor": 5
}
